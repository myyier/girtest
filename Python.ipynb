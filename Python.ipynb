{
 "cells": [
  {
   "cell_type": "code",
   "execution_count": 1,
   "metadata": {
    "collapsed": true
   },
   "outputs": [],
   "source": [
    "import numpy as np\n",
    "import matplotlib.pyplot as plt\n"
   ]
  },
  {
   "cell_type": "code",
   "execution_count": 3,
   "metadata": {
    "collapsed": false
   },
   "outputs": [],
   "source": [
    "from scipy import constants as C\n",
    "\n"
   ]
  },
  {
   "cell_type": "code",
   "execution_count": 4,
   "metadata": {
    "collapsed": false
   },
   "outputs": [
    {
     "data": {
      "text/plain": [
       "299792458.0"
      ]
     },
     "execution_count": 4,
     "metadata": {},
     "output_type": "execute_result"
    }
   ],
   "source": [
    "C.c"
   ]
  },
  {
   "cell_type": "code",
   "execution_count": 5,
   "metadata": {
    "collapsed": false
   },
   "outputs": [
    {
     "data": {
      "text/plain": [
       "6.62606957e-34"
      ]
     },
     "execution_count": 5,
     "metadata": {},
     "output_type": "execute_result"
    }
   ],
   "source": [
    "C.h"
   ]
  },
  {
   "cell_type": "code",
   "execution_count": 6,
   "metadata": {
    "collapsed": true
   },
   "outputs": [],
   "source": [
    "import scipy.special as S"
   ]
  },
  {
   "cell_type": "code",
   "execution_count": 8,
   "metadata": {
    "collapsed": false
   },
   "outputs": [
    {
     "data": {
      "text/plain": [
       "(0.49801566811835501-0.15494982830181067j)"
      ]
     },
     "execution_count": 8,
     "metadata": {},
     "output_type": "execute_result"
    }
   ],
   "source": [
    "S.gamma(1+1j)"
   ]
  },
  {
   "cell_type": "code",
   "execution_count": 10,
   "metadata": {
    "collapsed": false
   },
   "outputs": [],
   "source": [
    "import numpy as np\n",
    "from scipy.optimize import leastsq"
   ]
  },
  {
   "cell_type": "code",
   "execution_count": 11,
   "metadata": {
    "collapsed": true
   },
   "outputs": [],
   "source": [
    "X=np.array([8.19,2.72,6.39,8.71,4.7,2.66,3.78])\n",
    "Y=np.array([7.01,2.78,6.47,6.71,4.1,4.23,4.05])"
   ]
  },
  {
   "cell_type": "code",
   "execution_count": 16,
   "metadata": {
    "collapsed": false
   },
   "outputs": [
    {
     "name": "stdout",
     "output_type": "stream",
     "text": [
      "k= 0.613495349193 b= 1.79409254326\n"
     ]
    }
   ],
   "source": [
    "def residual(p):\n",
    "    k,b=p\n",
    "    return Y-(k*X+b)\n",
    "\n",
    "r=leastsq(residual,[1,0])\n",
    "k,b=r[0]\n",
    "print 'k=',k,'b=',b"
   ]
  },
  {
   "cell_type": "code",
   "execution_count": 45,
   "metadata": {
    "collapsed": false
   },
   "outputs": [
    {
     "ename": "KeyError",
     "evalue": "'-f'",
     "output_type": "error",
     "traceback": [
      "\u001b[1;31m---------------------------------------------------------------------------\u001b[0m",
      "\u001b[1;31mKeyError\u001b[0m                                  Traceback (most recent call last)",
      "\u001b[1;32m<ipython-input-45-6c34d2c1d7e8>\u001b[0m in \u001b[0;36m<module>\u001b[1;34m()\u001b[0m\n\u001b[0;32m     22\u001b[0m     \u001b[0mmethod\u001b[0m\u001b[1;33m=\u001b[0m\u001b[1;34m'fmin_bfgs'\u001b[0m\u001b[1;33m\u001b[0m\u001b[0m\n\u001b[0;32m     23\u001b[0m \u001b[1;33m\u001b[0m\u001b[0m\n\u001b[1;32m---> 24\u001b[1;33m \u001b[0mfmin_func\u001b[0m\u001b[1;33m=\u001b[0m\u001b[0mopt\u001b[0m\u001b[1;33m.\u001b[0m\u001b[0m__dict__\u001b[0m\u001b[1;33m[\u001b[0m\u001b[0mmethod\u001b[0m\u001b[1;33m]\u001b[0m\u001b[1;33m\u001b[0m\u001b[0m\n\u001b[0m\u001b[0;32m     25\u001b[0m \u001b[1;32mif\u001b[0m \u001b[0mmethod\u001b[0m \u001b[1;32min\u001b[0m \u001b[1;33m[\u001b[0m\u001b[1;34m\"fmin\"\u001b[0m\u001b[1;33m,\u001b[0m\u001b[1;34m\"fmin_powell\"\u001b[0m\u001b[1;33m]\u001b[0m\u001b[1;33m:\u001b[0m\u001b[1;33m\u001b[0m\u001b[0m\n\u001b[0;32m     26\u001b[0m     \u001b[0mresult\u001b[0m\u001b[1;33m=\u001b[0m\u001b[0mfmin_func\u001b[0m\u001b[1;33m(\u001b[0m\u001b[0mf\u001b[0m\u001b[1;33m,\u001b[0m\u001b[0minit_point\u001b[0m\u001b[1;33m)\u001b[0m\u001b[1;33m\u001b[0m\u001b[0m\n",
      "\u001b[1;31mKeyError\u001b[0m: '-f'"
     ]
    }
   ],
   "source": [
    "import scipy.optimize as opt\n",
    "import numpy as np\n",
    "import sys\n",
    "\n",
    "points=[]\n",
    "def f(p):\n",
    "    x,y=p\n",
    "    z=(1-x)**2+100*(y-x**2)**2\n",
    "    points.append((x,y,z))\n",
    "    return z\n",
    "\n",
    "def fprime(p):\n",
    "    x,y=p\n",
    "    dx=-2+2*x-400*x*(y-x**2)\n",
    "    dy=200*y-200*x**2\n",
    "    return np.array([dx,dy])\n",
    "\n",
    "init_point=(-2,-2)\n",
    "try:\n",
    "    method=sys.argv[1]\n",
    "except:\n",
    "    method='fmin_bfgs'\n",
    "    \n",
    "fmin_func=opt.__dict__[method]\n",
    "if method in [\"fmin\",\"fmin_powell\"]:    \n",
    "    result=fmin_func(f,init_point)\n",
    "elif method in[\"fmin_cg\",\"fmin_bfgs\",\"fmin_l_bfgs_b\",\"fmin_tnc\"]:\n",
    "    result=fmin_func(f,init_point,fprime)\n",
    "elif method in [\"fmin_cobyla\"]:\n",
    "    result=fmin_func(f,init_point,[])\n",
    "else:\n",
    "    print 'fmin function not found'          \n",
    "    sys.exit(0)\n",
    "    \n",
    "    \n",
    "import pylab as pl\n",
    "p=np.array(points)\n",
    "xmin,xmax=np.min(p[:,0])-1,np.max(p[:,0])+1\n",
    "ymin,ymax=np.min(p[:,0])-1,np.max(p[:,0])+1\n",
    "Y,X=np.ogrid[ymin:ymax:500j,xmin:xmax:500j]\n",
    "Z=np.log10(f((X,Y)))\n",
    "zmin,zmax=np.min(Z),np.max(Z)\n",
    "pl.imshow(Z,extent=(xmin,ymin,ymax),origin='botton',aspect='auto')\n",
    "pl.plot(p[:,0],p[:,1])\n",
    "pl.scatter(p[:,0],p[:,1],c=range(len(p)))\n",
    "pl.xlim(xmin,xmax)\n",
    "pl.ylim(ymin,ymax)\n",
    "pl.show()"
   ]
  },
  {
   "cell_type": "code",
   "execution_count": 29,
   "metadata": {
    "collapsed": false
   },
   "outputs": [
    {
     "data": {
      "image/png": "[encoded data removed]",
      "text/plain": [
       "<matplotlib.figure.Figure at 0x1c18ba90>"
      ]
     },
     "metadata": {},
     "output_type": "display_data"
    }
   ],
   "source": [
    "%matplotlib inline\n",
    "import numpy as np\n",
    "from scipy import interpolate\n",
    "import pylab as pl\n",
    "x=np.linspace(0,11,11)\n",
    "y=np.sin(x)\n",
    "\n",
    "xnew=np.linspace(0,10,101)\n",
    "pl.plot(x,y,'ro')\n",
    "for kind in ['nearest','zero','slinear','quadratic']:\n",
    "    f=interpolate.interp1d(x,y,kind=kind)\n",
    "    ynew=f(xnew)\n",
    "    pl.plot(xnew,ynew,label=str(kind))\n",
    "    \n",
    "pl.legend(loc='lower right')\n",
    "pl.show()"
   ]
  },
  {
   "cell_type": "code",
   "execution_count": null,
   "metadata": {
    "collapsed": true
   },
   "outputs": [],
   "source": []
  }
 ],
 "metadata": {
  "kernelspec": {
   "display_name": "Python 2",
   "language": "python",
   "name": "python2"
  },
  "language_info": {
   "codemirror_mode": {
    "name": "ipython",
    "version": 2
   },
   "file_extension": ".py",
   "mimetype": "text/x-python",
   "name": "python",
   "nbconvert_exporter": "python",
   "pygments_lexer": "ipython2",
   "version": "2.7.9"
  }
 },
 "nbformat": 4,
 "nbformat_minor": 0
}
